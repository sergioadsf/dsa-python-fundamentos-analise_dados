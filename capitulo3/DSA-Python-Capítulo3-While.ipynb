{
 "cells": [
  {
   "cell_type": "markdown",
   "metadata": {},
   "source": [
    "# DSA - Python Fundamentos - Capítulo 3"
   ]
  },
  {
   "cell_type": "markdown",
   "metadata": {},
   "source": [
    "## While"
   ]
  },
  {
   "cell_type": "code",
   "execution_count": 1,
   "metadata": {
    "collapsed": false
   },
   "outputs": [
    {
     "name": "stdout",
     "output_type": "stream",
     "text": [
      "0\n",
      "1\n",
      "2\n",
      "3\n",
      "4\n",
      "5\n",
      "6\n",
      "7\n",
      "8\n",
      "9\n"
     ]
    }
   ],
   "source": [
    "# Usando o while para imprimir os valores de 0 a 9\n",
    "i = 0\n",
    "while(i < 10):\n",
    "    print(i)\n",
    "    i += 1"
   ]
  },
  {
   "cell_type": "code",
   "execution_count": 2,
   "metadata": {
    "collapsed": false
   },
   "outputs": [
    {
     "name": "stdout",
     "output_type": "stream",
     "text": [
      "O valor de x é 0\n",
      "x ainda é menor que 5, somando 1 a x\n",
      "O valor de x é 1\n",
      "x ainda é menor que 5, somando 1 a x\n",
      "O valor de x é 2\n",
      "x ainda é menor que 5, somando 1 a x\n",
      "O valor de x é 3\n",
      "x ainda é menor que 5, somando 1 a x\n",
      "O valor de x é 4\n",
      "x ainda é menor que 5, somando 1 a x\n",
      "Loop finalizado: 5\n"
     ]
    }
   ],
   "source": [
    "# Pode ser usado uma claúsula else para encerrar o loop while\n",
    "x = 0\n",
    "while x < 5:\n",
    "    print(\"O valor de x é\", x)\n",
    "    print(\"x ainda é menor que 5, somando 1 a x\")\n",
    "    x += 1\n",
    "else:\n",
    "    print(\"Loop finalizado:\",x)"
   ]
  },
  {
   "cell_type": "markdown",
   "metadata": {},
   "source": [
    "## Pass, Break, Continue"
   ]
  },
  {
   "cell_type": "code",
   "execution_count": 3,
   "metadata": {
    "collapsed": false
   },
   "outputs": [
    {
     "name": "stdout",
     "output_type": "stream",
     "text": [
      "0\n",
      "1\n",
      "2\n",
      "3\n"
     ]
    }
   ],
   "source": [
    "cont = 0\n",
    "while cont < 100:\n",
    "    if cont == 4:\n",
    "        break\n",
    "    else:\n",
    "        pass\n",
    "    \n",
    "    print(cont)\n",
    "    cont += 1"
   ]
  },
  {
   "cell_type": "code",
   "execution_count": 4,
   "metadata": {
    "collapsed": false
   },
   "outputs": [
    {
     "name": "stdout",
     "output_type": "stream",
     "text": [
      "P\n",
      "y\n",
      "t\n",
      "o\n",
      "n\n"
     ]
    }
   ],
   "source": [
    "for verificador in \"Python\":\n",
    "    if verificador == 'h':\n",
    "        continue\n",
    "    print(verificador)"
   ]
  },
  {
   "cell_type": "markdown",
   "metadata": {},
   "source": [
    "## While e For juntos"
   ]
  },
  {
   "cell_type": "code",
   "execution_count": 5,
   "metadata": {
    "collapsed": false
   },
   "outputs": [
    {
     "name": "stdout",
     "output_type": "stream",
     "text": [
      "2 é um numero primo\n",
      "3 é um numero primo\n",
      "5 é um numero primo\n",
      "7 é um numero primo\n",
      "11 é um numero primo\n",
      "13 é um numero primo\n",
      "17 é um numero primo\n",
      "19 é um numero primo\n",
      "23 é um numero primo\n",
      "29 é um numero primo\n"
     ]
    }
   ],
   "source": [
    "for i in range(2, 30):\n",
    "    j = 2\n",
    "    cont = 0\n",
    "    while j < i:\n",
    "        if i % j == 0:\n",
    "            cont = 1\n",
    "            j += 1\n",
    "        else:\n",
    "            j += 1\n",
    "    \n",
    "    if cont == 0:\n",
    "        print(str(i) + \" é um numero primo\")\n",
    "        cont = 0\n",
    "    else:\n",
    "        cont = 0\n",
    "        "
   ]
  },
  {
   "cell_type": "markdown",
   "metadata": {},
   "source": [
    "# Fim"
   ]
  }
 ],
 "metadata": {
  "kernelspec": {
   "display_name": "Python [default]",
   "language": "python",
   "name": "python3"
  },
  "language_info": {
   "codemirror_mode": {
    "name": "ipython",
    "version": 3
   },
   "file_extension": ".py",
   "mimetype": "text/x-python",
   "name": "python",
   "nbconvert_exporter": "python",
   "pygments_lexer": "ipython3",
   "version": "3.5.2"
  }
 },
 "nbformat": 4,
 "nbformat_minor": 1
}
