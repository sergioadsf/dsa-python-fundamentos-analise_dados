{
 "cells": [
  {
   "cell_type": "markdown",
   "metadata": {},
   "source": [
    "# <font color='blue'> DSA - Python Fundamentos - Capítulo 5 </font>"
   ]
  },
  {
   "cell_type": "markdown",
   "metadata": {},
   "source": [
    "## Herança"
   ]
  },
  {
   "cell_type": "code",
   "execution_count": 1,
   "metadata": {
    "collapsed": true
   },
   "outputs": [],
   "source": [
    "# Criando uma classe Animal\n",
    "class Animal():\n",
    "    def __init__(self):\n",
    "        print(\"Animal criado\")\n",
    "        \n",
    "    def identif(self):\n",
    "        print(\"Animal\")\n",
    "        \n",
    "    def comer(self):\n",
    "        print(\"Comendo\")"
   ]
  },
  {
   "cell_type": "code",
   "execution_count": 2,
   "metadata": {
    "collapsed": true
   },
   "outputs": [],
   "source": [
    "class Cachorro(Animal):\n",
    "    def __init__(self):\n",
    "        Animal.__init__(self) # Envia o self como parâmetro\n",
    "        print(\"Objeto cachorro criado\")\n",
    "        \n",
    "    def identif(self):\n",
    "        print(\"Cachorro\")\n",
    "        \n",
    "    def latir(self):\n",
    "        print(\"Au au!\")"
   ]
  },
  {
   "cell_type": "code",
   "execution_count": 4,
   "metadata": {
    "collapsed": false
   },
   "outputs": [
    {
     "name": "stdout",
     "output_type": "stream",
     "text": [
      "Animal criado\n",
      "Objeto cachorro criado\n"
     ]
    }
   ],
   "source": [
    "rex = Cachorro()"
   ]
  },
  {
   "cell_type": "code",
   "execution_count": 5,
   "metadata": {
    "collapsed": false
   },
   "outputs": [
    {
     "name": "stdout",
     "output_type": "stream",
     "text": [
      "Cachorro\n"
     ]
    }
   ],
   "source": [
    "# Executa o método da classe Cachorro (sub classe)\n",
    "rex.identif()"
   ]
  },
  {
   "cell_type": "code",
   "execution_count": 6,
   "metadata": {
    "collapsed": false
   },
   "outputs": [
    {
     "name": "stdout",
     "output_type": "stream",
     "text": [
      "Comendo\n"
     ]
    }
   ],
   "source": [
    "# Executa o método da classe Animal (super classe)\n",
    "rex.comer()"
   ]
  },
  {
   "cell_type": "code",
   "execution_count": 7,
   "metadata": {
    "collapsed": false
   },
   "outputs": [
    {
     "name": "stdout",
     "output_type": "stream",
     "text": [
      "Au au!\n"
     ]
    }
   ],
   "source": [
    "# Executa o método da classe Cachorro (sub classe)\n",
    "rex.latir()"
   ]
  },
  {
   "cell_type": "markdown",
   "metadata": {},
   "source": [
    "# Fim"
   ]
  }
 ],
 "metadata": {
  "anaconda-cloud": {},
  "kernelspec": {
   "display_name": "Python [default]",
   "language": "python",
   "name": "python3"
  },
  "language_info": {
   "codemirror_mode": {
    "name": "ipython",
    "version": 3
   },
   "file_extension": ".py",
   "mimetype": "text/x-python",
   "name": "python",
   "nbconvert_exporter": "python",
   "pygments_lexer": "ipython3",
   "version": "3.5.2"
  }
 },
 "nbformat": 4,
 "nbformat_minor": 1
}
