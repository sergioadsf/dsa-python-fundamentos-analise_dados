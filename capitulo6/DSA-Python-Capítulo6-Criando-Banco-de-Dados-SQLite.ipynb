{
 "cells": [
  {
   "cell_type": "markdown",
   "metadata": {},
   "source": [
    "# <font color='blue'> DSA - Python Fundamentos - Capítulo 6 </font>"
   ]
  },
  {
   "cell_type": "markdown",
   "metadata": {},
   "source": [
    "## Acessando Banco de Dados com Python"
   ]
  },
  {
   "cell_type": "code",
   "execution_count": 1,
   "metadata": {
    "collapsed": true
   },
   "outputs": [],
   "source": [
    "# Importando o módulo de acesso SQLite\n",
    "import sqlite3"
   ]
  },
  {
   "cell_type": "code",
   "execution_count": 2,
   "metadata": {
    "collapsed": true
   },
   "outputs": [],
   "source": [
    "# Cria uma conexão como banco de dados\n",
    "# SE o banco de dados não existir, ele é criado nesse momento\n",
    "con = sqlite3.connect(\"escola.db\")"
   ]
  },
  {
   "cell_type": "code",
   "execution_count": 3,
   "metadata": {
    "collapsed": false
   },
   "outputs": [
    {
     "data": {
      "text/plain": [
       "sqlite3.Connection"
      ]
     },
     "execution_count": 3,
     "metadata": {},
     "output_type": "execute_result"
    }
   ],
   "source": [
    "type(con)"
   ]
  },
  {
   "cell_type": "code",
   "execution_count": 4,
   "metadata": {
    "collapsed": true
   },
   "outputs": [],
   "source": [
    "# Criando um cursor\n",
    "# (Um cursor permite percorrer todos os registros em conjunto de dados)\n",
    "cur = con.cursor()"
   ]
  },
  {
   "cell_type": "code",
   "execution_count": 5,
   "metadata": {
    "collapsed": false
   },
   "outputs": [
    {
     "data": {
      "text/plain": [
       "sqlite3.Cursor"
      ]
     },
     "execution_count": 5,
     "metadata": {},
     "output_type": "execute_result"
    }
   ],
   "source": [
    "type(cur)"
   ]
  },
  {
   "cell_type": "code",
   "execution_count": 6,
   "metadata": {
    "collapsed": true
   },
   "outputs": [],
   "source": [
    "# Cria uma instrução sql\n",
    "sql_create = 'create table cursos '\\\n",
    "'(id integer primary_key, '\\\n",
    "'titulo varchar(100), '\\\n",
    "'categoria varchar(140))'"
   ]
  },
  {
   "cell_type": "code",
   "execution_count": 7,
   "metadata": {
    "collapsed": false
   },
   "outputs": [
    {
     "data": {
      "text/plain": [
       "<sqlite3.Cursor at 0x5125dc0>"
      ]
     },
     "execution_count": 7,
     "metadata": {},
     "output_type": "execute_result"
    }
   ],
   "source": [
    "# Executando a instrução sql no cursor\n",
    "cur.execute(sql_create)"
   ]
  },
  {
   "cell_type": "code",
   "execution_count": 8,
   "metadata": {
    "collapsed": true
   },
   "outputs": [],
   "source": [
    "# Criando outra sentença SQL para inserir registros \n",
    "sql_insert = 'insert into cursos values (?, ?, ?)'"
   ]
  },
  {
   "cell_type": "code",
   "execution_count": 9,
   "metadata": {
    "collapsed": true
   },
   "outputs": [],
   "source": [
    "# Dados\n",
    "recset = [(1000, 'Ciência de Dados', 'Data Science'),\n",
    "          (1001, 'Big Data Fundamentos', 'Big Data'),\n",
    "          (1002, 'Python Fundamentos', 'Análise de Dados')]"
   ]
  },
  {
   "cell_type": "code",
   "execution_count": 10,
   "metadata": {
    "collapsed": true
   },
   "outputs": [],
   "source": [
    "# Inserindo os registros\n",
    "for rec in recset:\n",
    "    cur.execute(sql_insert, rec)"
   ]
  },
  {
   "cell_type": "code",
   "execution_count": 11,
   "metadata": {
    "collapsed": true
   },
   "outputs": [],
   "source": [
    "# Grava a transação\n",
    "con.commit()"
   ]
  },
  {
   "cell_type": "code",
   "execution_count": 12,
   "metadata": {
    "collapsed": true
   },
   "outputs": [],
   "source": [
    "# Criando outra sentença SQL para selecionar registros\n",
    "sql_select = 'select * from cursos'"
   ]
  },
  {
   "cell_type": "code",
   "execution_count": 13,
   "metadata": {
    "collapsed": false
   },
   "outputs": [
    {
     "data": {
      "text/plain": [
       "<sqlite3.Cursor at 0x5125dc0>"
      ]
     },
     "execution_count": 13,
     "metadata": {},
     "output_type": "execute_result"
    }
   ],
   "source": [
    "cur.execute(sql_select)"
   ]
  },
  {
   "cell_type": "code",
   "execution_count": 14,
   "metadata": {
    "collapsed": true
   },
   "outputs": [],
   "source": [
    "# Recupera os resultados\n",
    "dados = cur.fetchall()"
   ]
  },
  {
   "cell_type": "code",
   "execution_count": 16,
   "metadata": {
    "collapsed": false
   },
   "outputs": [
    {
     "name": "stdout",
     "output_type": "stream",
     "text": [
      "Id: 1000, titulo: Ciência de Dados, categoria: Data Science\n",
      "Id: 1001, titulo: Big Data Fundamentos, categoria: Big Data\n",
      "Id: 1002, titulo: Python Fundamentos, categoria: Análise de Dados\n"
     ]
    }
   ],
   "source": [
    "# Mostra\n",
    "for linha in dados:\n",
    "    print(\"Id: %d, titulo: %s, categoria: %s\" %(linha))"
   ]
  },
  {
   "cell_type": "code",
   "execution_count": 18,
   "metadata": {
    "collapsed": false
   },
   "outputs": [],
   "source": [
    "# Acrescentando registros\n",
    "recset = [(1003, 'Gestão de Dados com MongoDB', 'Big Data'),\n",
    "          (1004, 'R FUndamentos', 'Análise de Dados')]\n",
    "\n",
    "for rec in recset:\n",
    "    cur.execute(sql_insert, rec)\n",
    "    \n",
    "con.commit()"
   ]
  },
  {
   "cell_type": "code",
   "execution_count": 21,
   "metadata": {
    "collapsed": false
   },
   "outputs": [
    {
     "data": {
      "text/plain": [
       "<sqlite3.Cursor at 0x5125dc0>"
      ]
     },
     "execution_count": 21,
     "metadata": {},
     "output_type": "execute_result"
    }
   ],
   "source": [
    "# Seleciona os registros\n",
    "cur.execute(sql_select)"
   ]
  },
  {
   "cell_type": "code",
   "execution_count": 22,
   "metadata": {
    "collapsed": false
   },
   "outputs": [
    {
     "name": "stdout",
     "output_type": "stream",
     "text": [
      "Id: 1000, titulo: Ciência de Dados, categoria: Data Science\n",
      "Id: 1001, titulo: Big Data Fundamentos, categoria: Big Data\n",
      "Id: 1002, titulo: Python Fundamentos, categoria: Análise de Dados\n",
      "Id: 1003, titulo: Gestão de Dados com MongoDB, categoria: Big Data\n",
      "Id: 1004, titulo: R FUndamentos, categoria: Análise de Dados\n"
     ]
    }
   ],
   "source": [
    "for linha in cur.fetchall():\n",
    "    print(\"Id: %d, titulo: %s, categoria: %s\" %(linha))"
   ]
  },
  {
   "cell_type": "code",
   "execution_count": 23,
   "metadata": {
    "collapsed": true
   },
   "outputs": [],
   "source": [
    "# Fechar a conexão\n",
    "con.close()"
   ]
  },
  {
   "cell_type": "markdown",
   "metadata": {},
   "source": [
    "# Fim"
   ]
  }
 ],
 "metadata": {
  "anaconda-cloud": {},
  "kernelspec": {
   "display_name": "Python [default]",
   "language": "python",
   "name": "python3"
  },
  "language_info": {
   "codemirror_mode": {
    "name": "ipython",
    "version": 3
   },
   "file_extension": ".py",
   "mimetype": "text/x-python",
   "name": "python",
   "nbconvert_exporter": "python",
   "pygments_lexer": "ipython3",
   "version": "3.5.2"
  }
 },
 "nbformat": 4,
 "nbformat_minor": 1
}
