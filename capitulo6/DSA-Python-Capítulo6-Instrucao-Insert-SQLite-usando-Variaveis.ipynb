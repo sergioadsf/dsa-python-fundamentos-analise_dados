{
 "cells": [
  {
   "cell_type": "markdown",
   "metadata": {},
   "source": [
    "# <font color='blue'> DSA - Python Fundamentos - Capítulo 6 </font>"
   ]
  },
  {
   "cell_type": "markdown",
   "metadata": {},
   "source": [
    "## Inserindo Dados com Variáveis"
   ]
  },
  {
   "cell_type": "code",
   "execution_count": 1,
   "metadata": {
    "collapsed": true
   },
   "outputs": [],
   "source": [
    "import sqlite3\n",
    "import random\n",
    "import time\n",
    "import datetime\n",
    "\n",
    "# Criando uma conexão\n",
    "conn = sqlite3.connect(\"dsa.db\")\n",
    "\n",
    "# Criando cursor\n",
    "cur = conn.cursor()\n",
    "\n",
    "def create_table():\n",
    "    cur.execute(\"CREATE TABLE IF NOT EXISTS produtos(id INTEGER PRIMARY KEY AUTOINCREMENT NOT NULL, date TEXT, \"\\\n",
    "                \"prod_name TEXT, valor REAL)\")\n",
    "    \n",
    "def data_insert():\n",
    "    cur.execute(\"INSERT INTO produtos values(10, '2016-05-02 11:42:45', 'Teclado', 90)\")\n",
    "    cur.commit()\n",
    "    conn.close()\n",
    "    cur.close()\n",
    "    \n",
    "def data_insert_var():\n",
    "    new_date = datetime.datetime.now()\n",
    "    new_prod_nome = \"Monitor\"\n",
    "    new_valor = random.randrange(50,100)\n",
    "    cur.execute(\"INSERT INTO produtos (date, prod_name, valor) values(?,?,?)\", (new_date, new_prod_nome, new_valor))\n",
    "    conn.commit()"
   ]
  },
  {
   "cell_type": "code",
   "execution_count": 2,
   "metadata": {
    "collapsed": true
   },
   "outputs": [],
   "source": [
    "# Gerando valor e inserindo\n",
    "for i in range(10):\n",
    "    data_insert_var()\n",
    "    time.sleep(1)"
   ]
  },
  {
   "cell_type": "code",
   "execution_count": 3,
   "metadata": {
    "collapsed": true
   },
   "outputs": [],
   "source": [
    "# Encerrando conexão\n",
    "cur.close()\n",
    "conn.close()"
   ]
  },
  {
   "cell_type": "markdown",
   "metadata": {},
   "source": [
    "# Fim"
   ]
  }
 ],
 "metadata": {
  "kernelspec": {
   "display_name": "Python [default]",
   "language": "python",
   "name": "python3"
  },
  "language_info": {
   "codemirror_mode": {
    "name": "ipython",
    "version": 3
   },
   "file_extension": ".py",
   "mimetype": "text/x-python",
   "name": "python",
   "nbconvert_exporter": "python",
   "pygments_lexer": "ipython3",
   "version": "3.5.2"
  }
 },
 "nbformat": 4,
 "nbformat_minor": 1
}
