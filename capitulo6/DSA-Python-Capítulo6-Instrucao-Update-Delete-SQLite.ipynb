{
 "cells": [
  {
   "cell_type": "markdown",
   "metadata": {},
   "source": [
    "# <font color='blue'> DSA - Python Fundamentos - Capítulo 6 </font>"
   ]
  },
  {
   "cell_type": "markdown",
   "metadata": {},
   "source": [
    "## Update e Delete"
   ]
  },
  {
   "cell_type": "code",
   "execution_count": 1,
   "metadata": {
    "collapsed": true
   },
   "outputs": [],
   "source": [
    "import sqlite3\n",
    "import random\n",
    "import time\n",
    "import datetime\n",
    "\n",
    "# Criando uma conexão\n",
    "conn = sqlite3.connect(\"dsa.db\")\n",
    "\n",
    "# Criando cursor\n",
    "cur = conn.cursor()\n",
    "\n",
    "def create_table():\n",
    "    cur.execute(\"CREATE TABLE IF NOT EXISTS produtos(id INTEGER PRIMARY KEY AUTOINCREMENT NOT NULL, date TEXT, \"\\\n",
    "                \"prod_name TEXT, valor REAL)\")\n",
    "    \n",
    "def data_insert():\n",
    "    cur.execute(\"INSERT INTO produtos values(10, '2016-05-02 11:42:45', 'Teclado', 90)\")\n",
    "    cur.commit()\n",
    "    conn.close()\n",
    "    cur.close()\n",
    "    \n",
    "def data_insert_var():\n",
    "    new_date = datetime.datetime.now()\n",
    "    new_prod_nome = \"Monitor\"\n",
    "    new_valor = random.randrange(50,100)\n",
    "    cur.execute(\"INSERT INTO produtos (date, prod_name, valor) values(?,?,?)\", (new_date, new_prod_nome, new_valor))\n",
    "    conn.commit()\n",
    "\n",
    "def leitura_todos_dados():\n",
    "    cur.execute(\"SELECT * FROM produtos\")\n",
    "    dados = cur.fetchall()\n",
    "    for linha in dados:\n",
    "        print(linha)\n",
    "        \n",
    "def leitura_registros():\n",
    "    cur.execute(\"SELECT * FROM produtos WHERE valor > 60.0\")\n",
    "    for linha in cur.fetchall():\n",
    "        print(linha)\n",
    "        \n",
    "def leitura_colunas():\n",
    "    cur.execute(\"SELECT * FROM produtos\")\n",
    "    for linha in cur.fetchall():\n",
    "        print(linha[3])\n",
    "        \n",
    "def atualizar():\n",
    "    cur.execute(\"UPDATE produtos SET valor = 70.00 WHERE valor > 80.00\")\n",
    "    conn.commit()\n",
    "    \n",
    "def remover_dados():\n",
    "    cur.execute(\"DELETE from produtos WHERE valor < 60.00\")\n",
    "    conn.commit()"
   ]
  },
  {
   "cell_type": "code",
   "execution_count": 2,
   "metadata": {
    "collapsed": false
   },
   "outputs": [
    {
     "name": "stdout",
     "output_type": "stream",
     "text": [
      "(10, '2016-05-02 11:42:45', 'Teclado', 70.0)\n",
      "(11, '2016-12-15 12:32:56.545876', 'Monitor', 52.0)\n",
      "(12, '2016-12-15 12:32:57.551977', 'Monitor', 76.0)\n",
      "(13, '2016-12-15 12:32:58.556077', 'Monitor', 70.0)\n",
      "(14, '2016-12-15 12:32:59.559178', 'Monitor', 73.0)\n",
      "(15, '2016-12-15 12:33:00.564278', 'Monitor', 55.0)\n",
      "(16, '2016-12-15 12:33:01.567378', 'Monitor', 50.0)\n",
      "(17, '2016-12-15 12:33:02.572479', 'Monitor', 65.0)\n",
      "(18, '2016-12-15 12:33:03.575579', 'Monitor', 70.0)\n",
      "(19, '2016-12-15 12:33:04.581680', 'Monitor', 70.0)\n",
      "(20, '2016-12-15 12:33:05.585780', 'Monitor', 70.0)\n"
     ]
    }
   ],
   "source": [
    "leitura_todos_dados()"
   ]
  },
  {
   "cell_type": "code",
   "execution_count": 3,
   "metadata": {
    "collapsed": true
   },
   "outputs": [],
   "source": [
    "atualizar()"
   ]
  },
  {
   "cell_type": "code",
   "execution_count": 4,
   "metadata": {
    "collapsed": false
   },
   "outputs": [
    {
     "name": "stdout",
     "output_type": "stream",
     "text": [
      "(10, '2016-05-02 11:42:45', 'Teclado', 70.0)\n",
      "(11, '2016-12-15 12:32:56.545876', 'Monitor', 52.0)\n",
      "(12, '2016-12-15 12:32:57.551977', 'Monitor', 76.0)\n",
      "(13, '2016-12-15 12:32:58.556077', 'Monitor', 70.0)\n",
      "(14, '2016-12-15 12:32:59.559178', 'Monitor', 73.0)\n",
      "(15, '2016-12-15 12:33:00.564278', 'Monitor', 55.0)\n",
      "(16, '2016-12-15 12:33:01.567378', 'Monitor', 50.0)\n",
      "(17, '2016-12-15 12:33:02.572479', 'Monitor', 65.0)\n",
      "(18, '2016-12-15 12:33:03.575579', 'Monitor', 70.0)\n",
      "(19, '2016-12-15 12:33:04.581680', 'Monitor', 70.0)\n",
      "(20, '2016-12-15 12:33:05.585780', 'Monitor', 70.0)\n"
     ]
    }
   ],
   "source": [
    "leitura_todos_dados()"
   ]
  },
  {
   "cell_type": "code",
   "execution_count": 5,
   "metadata": {
    "collapsed": false
   },
   "outputs": [],
   "source": [
    "remover_dados()"
   ]
  },
  {
   "cell_type": "code",
   "execution_count": 6,
   "metadata": {
    "collapsed": false
   },
   "outputs": [
    {
     "name": "stdout",
     "output_type": "stream",
     "text": [
      "(10, '2016-05-02 11:42:45', 'Teclado', 70.0)\n",
      "(12, '2016-12-15 12:32:57.551977', 'Monitor', 76.0)\n",
      "(13, '2016-12-15 12:32:58.556077', 'Monitor', 70.0)\n",
      "(14, '2016-12-15 12:32:59.559178', 'Monitor', 73.0)\n",
      "(17, '2016-12-15 12:33:02.572479', 'Monitor', 65.0)\n",
      "(18, '2016-12-15 12:33:03.575579', 'Monitor', 70.0)\n",
      "(19, '2016-12-15 12:33:04.581680', 'Monitor', 70.0)\n",
      "(20, '2016-12-15 12:33:05.585780', 'Monitor', 70.0)\n"
     ]
    }
   ],
   "source": [
    "leitura_todos_dados()"
   ]
  },
  {
   "cell_type": "markdown",
   "metadata": {},
   "source": [
    "# Fim"
   ]
  }
 ],
 "metadata": {
  "kernelspec": {
   "display_name": "Python [default]",
   "language": "python",
   "name": "python3"
  },
  "language_info": {
   "codemirror_mode": {
    "name": "ipython",
    "version": 3
   },
   "file_extension": ".py",
   "mimetype": "text/x-python",
   "name": "python",
   "nbconvert_exporter": "python",
   "pygments_lexer": "ipython3",
   "version": "3.5.2"
  }
 },
 "nbformat": 4,
 "nbformat_minor": 1
}
