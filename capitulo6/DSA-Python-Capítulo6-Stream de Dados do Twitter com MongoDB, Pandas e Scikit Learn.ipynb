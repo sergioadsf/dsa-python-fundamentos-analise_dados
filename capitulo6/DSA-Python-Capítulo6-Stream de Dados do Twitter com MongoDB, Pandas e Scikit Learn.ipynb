{
 "cells": [
  {
   "cell_type": "markdown",
   "metadata": {},
   "source": [
    "# <font color='blue'> DSA - Python Fundamentos - Capítulo 6 </font>"
   ]
  },
  {
   "cell_type": "markdown",
   "metadata": {},
   "source": [
    "## Stream de Dados do Twitter com MongoDB, Pandas e Scikit Learn"
   ]
  },
  {
   "cell_type": "code",
   "execution_count": 1,
   "metadata": {
    "collapsed": false
   },
   "outputs": [],
   "source": [
    "# Importando Tweepy, Datetime e Json\n",
    "from tweepy.streaming import StreamListener\n",
    "from tweepy import OAuthHandler\n",
    "from tweepy import Stream\n",
    "from datetime import datetime\n",
    "import json"
   ]
  },
  {
   "cell_type": "code",
   "execution_count": 2,
   "metadata": {
    "collapsed": true
   },
   "outputs": [],
   "source": [
    "consumer_key = ''"
   ]
  },
  {
   "cell_type": "code",
   "execution_count": 3,
   "metadata": {
    "collapsed": true
   },
   "outputs": [],
   "source": [
    "consumer_secret = ''"
   ]
  },
  {
   "cell_type": "code",
   "execution_count": 4,
   "metadata": {
    "collapsed": true
   },
   "outputs": [],
   "source": [
    "access_token = ''"
   ]
  },
  {
   "cell_type": "code",
   "execution_count": 5,
   "metadata": {
    "collapsed": true
   },
   "outputs": [],
   "source": [
    "access_token_secret = ''"
   ]
  },
  {
   "cell_type": "code",
   "execution_count": 6,
   "metadata": {
    "collapsed": true
   },
   "outputs": [],
   "source": [
    "# Criando as chaves de autenticação\n",
    "auth = OAuthHandler(consumer_key, consumer_secret)"
   ]
  },
  {
   "cell_type": "code",
   "execution_count": 7,
   "metadata": {
    "collapsed": true
   },
   "outputs": [],
   "source": [
    "auth.set_access_token(access_token, access_token_secret)"
   ]
  },
  {
   "cell_type": "code",
   "execution_count": 8,
   "metadata": {
    "collapsed": true
   },
   "outputs": [],
   "source": [
    "# Criando uma classe para capturar os stream de dados do Twitter e armazenar no MongoDB\n",
    "class MyListener(StreamListener):\n",
    "    def on_data(self, dados):\n",
    "        tweet = json.loads(dados)\n",
    "        print(tweet)\n",
    "        created_at = tweet[\"created_at\"]\n",
    "        id_str = tweet[\"id_str\"]\n",
    "        text = tweet[\"text\"]\n",
    "        obj = {\"created_at\": created_at, \"id_str\": id_str, \"text\": text}\n",
    "        tweetind = col.insert_one(obj).inserted_id\n",
    "        print(obj)\n",
    "        return True"
   ]
  },
  {
   "cell_type": "code",
   "execution_count": 20,
   "metadata": {
    "collapsed": true
   },
   "outputs": [],
   "source": [
    "mylistener = MyListener()"
   ]
  },
  {
   "cell_type": "code",
   "execution_count": 21,
   "metadata": {
    "collapsed": true
   },
   "outputs": [],
   "source": [
    "mystream = Stream(auth, listener= mylistener)"
   ]
  },
  {
   "cell_type": "code",
   "execution_count": 22,
   "metadata": {
    "collapsed": true
   },
   "outputs": [],
   "source": [
    "from pymongo import MongoClient"
   ]
  },
  {
   "cell_type": "code",
   "execution_count": 23,
   "metadata": {
    "collapsed": true
   },
   "outputs": [],
   "source": [
    "client = MongoClient('localhost', 27017)"
   ]
  },
  {
   "cell_type": "code",
   "execution_count": 24,
   "metadata": {
    "collapsed": true
   },
   "outputs": [],
   "source": [
    "db = client.twitterdb"
   ]
  },
  {
   "cell_type": "code",
   "execution_count": 25,
   "metadata": {
    "collapsed": true
   },
   "outputs": [],
   "source": [
    "# Criando collection tweets\n",
    "col = db.tweets"
   ]
  },
  {
   "cell_type": "code",
   "execution_count": 26,
   "metadata": {
    "collapsed": true
   },
   "outputs": [],
   "source": [
    "# Criando palavras chaves para buscar nos tweets\n",
    "keywords = ['Palmeiras', 'verdão', 'Verdão', 'palmeiras']"
   ]
  },
  {
   "cell_type": "code",
   "execution_count": 27,
   "metadata": {
    "collapsed": false
   },
   "outputs": [
    {
     "name": "stdout",
     "output_type": "stream",
     "text": [
      "{'id_str': '810424481676197888', 'truncated': False, 'id': 810424481676197888, 'in_reply_to_user_id_str': None, 'created_at': 'Sun Dec 18 10:00:28 +0000 2016', 'in_reply_to_screen_name': None, 'filter_level': 'low', 'geo': None, 'source': '<a href=\"http://twitter.com/download/iphone\" rel=\"nofollow\">Twitter for iPhone</a>', 'user': {'id_str': '173006210', 'profile_link_color': '0D0E0F', 'id': 173006210, 'friends_count': 156, 'default_profile': False, 'geo_enabled': True, 'default_profile_image': False, 'profile_background_image_url_https': 'https://pbs.twimg.com/profile_background_images/378800000121352406/800a5ccf0fe7ca856e7b78092a64acbf.jpeg', 'created_at': 'Sat Jul 31 04:47:51 +0000 2010', 'statuses_count': 13389, 'notifications': None, 'profile_use_background_image': True, 'profile_image_url': 'http://pbs.twimg.com/profile_images/806508343690981379/wCoIk1Kh_normal.jpg', 'profile_background_image_url': 'http://pbs.twimg.com/profile_background_images/378800000121352406/800a5ccf0fe7ca856e7b78092a64acbf.jpeg', 'is_translator': False, 'profile_text_color': '0F0E0E', 'name': 'L É O Z Ã O', 'verified': False, 'listed_count': 2, 'profile_sidebar_fill_color': 'AD1515', 'profile_image_url_https': 'https://pbs.twimg.com/profile_images/806508343690981379/wCoIk1Kh_normal.jpg', 'location': 'snap: alemao97', 'contributors_enabled': False, 'profile_background_color': '000000', 'screen_name': 'leo_asamoah', 'following': None, 'profile_banner_url': 'https://pbs.twimg.com/profile_banners/173006210/1468767780', 'time_zone': 'Santiago', 'utc_offset': -10800, 'followers_count': 125, 'description': 'Que Deus perdoe essas pessoas ruins', 'profile_sidebar_border_color': '000000', 'favourites_count': 2289, 'url': 'https://leoonobre.twitter.com', 'follow_request_sent': None, 'profile_background_tile': False, 'lang': 'pt', 'protected': False}, 'in_reply_to_status_id_str': None, 'retweeted_status': {'id_str': '810386543647064065', 'truncated': False, 'id': 810386543647064065, 'in_reply_to_user_id_str': None, 'created_at': 'Sun Dec 18 07:29:42 +0000 2016', 'in_reply_to_screen_name': None, 'filter_level': 'low', 'geo': None, 'source': '<a href=\"http://twitter.com\" rel=\"nofollow\">Twitter Web Client</a>', 'user': {'id_str': '1086495931', 'profile_link_color': '009999', 'id': 1086495931, 'friends_count': 715, 'default_profile': False, 'geo_enabled': False, 'default_profile_image': False, 'profile_background_image_url_https': 'https://abs.twimg.com/images/themes/theme14/bg.gif', 'created_at': 'Sun Jan 13 15:58:51 +0000 2013', 'statuses_count': 19951, 'notifications': None, 'profile_use_background_image': True, 'profile_image_url': 'http://pbs.twimg.com/profile_images/807538312089104385/UPh2Qdb8_normal.jpg', 'profile_background_image_url': 'http://abs.twimg.com/images/themes/theme14/bg.gif', 'is_translator': False, 'profile_text_color': '333333', 'name': 'SÃO PAULO MIL GRAU', 'verified': False, 'listed_count': 113, 'profile_sidebar_fill_color': 'EFEFEF', 'profile_image_url_https': 'https://pbs.twimg.com/profile_images/807538312089104385/UPh2Qdb8_normal.jpg', 'location': 'São Paulo', 'contributors_enabled': False, 'profile_background_color': '131516', 'screen_name': '5PFC_M1L_Gr4u', 'following': None, 'profile_banner_url': 'https://pbs.twimg.com/profile_banners/1086495931/1450494744', 'time_zone': 'Brasilia', 'utc_offset': -7200, 'followers_count': 52552, 'description': 'Twitter oficial do 5PFC m1L Gr4u https://www.youtube.com/5pfcM1lGr4u', 'profile_sidebar_border_color': 'EEEEEE', 'favourites_count': 11599, 'url': 'http://www.facebook.com/5pfcM1lGr4u', 'follow_request_sent': None, 'profile_background_tile': True, 'lang': 'pt', 'protected': False}, 'in_reply_to_status_id_str': None, 'place': None, 'text': 'esse américa do méxico todo ano tá no mundial e só apanha, tem q fazer igual o palmeiras foi 1 vez viu q ñ tem capacidade e ñ voltou nunca+', 'retweet_count': 65, 'retweeted': False, 'contributors': None, 'in_reply_to_user_id': None, 'favorite_count': 91, 'in_reply_to_status_id': None, 'coordinates': None, 'entities': {'user_mentions': [], 'urls': [], 'hashtags': [], 'symbols': []}, 'favorited': False, 'lang': 'pt', 'is_quote_status': False}, 'text': 'RT @5PFC_M1L_Gr4u: esse américa do méxico todo ano tá no mundial e só apanha, tem q fazer igual o palmeiras foi 1 vez viu q ñ tem capacidad…', 'favorited': False, 'retweet_count': 0, 'retweeted': False, 'contributors': None, 'in_reply_to_user_id': None, 'timestamp_ms': '1482055228047', 'favorite_count': 0, 'in_reply_to_status_id': None, 'coordinates': None, 'entities': {'user_mentions': [{'id_str': '1086495931', 'indices': [3, 17], 'id': 1086495931, 'screen_name': '5PFC_M1L_Gr4u', 'name': 'SÃO PAULO MIL GRAU'}], 'urls': [], 'hashtags': [], 'symbols': []}, 'place': None, 'lang': 'pt', 'is_quote_status': False}\n",
      "{'id_str': '810424481676197888', 'created_at': 'Sun Dec 18 10:00:28 +0000 2016', '_id': ObjectId('58565e3eaeed0224ecb1127a'), 'text': 'RT @5PFC_M1L_Gr4u: esse américa do méxico todo ano tá no mundial e só apanha, tem q fazer igual o palmeiras foi 1 vez viu q ñ tem capacidad…'}\n",
      "{'id_str': '810424512017760256', 'truncated': False, 'id': 810424512017760256, 'possibly_sensitive': False, 'in_reply_to_user_id_str': None, 'created_at': 'Sun Dec 18 10:00:35 +0000 2016', 'in_reply_to_screen_name': None, 'filter_level': 'low', 'geo': None, 'source': '<a href=\"http://www.facebook.com/twitter\" rel=\"nofollow\">Facebook</a>', 'user': {'id_str': '2408902614', 'profile_link_color': '1DA1F2', 'id': 2408902614, 'friends_count': 231, 'default_profile': True, 'geo_enabled': True, 'default_profile_image': False, 'profile_background_image_url_https': 'https://abs.twimg.com/images/themes/theme1/bg.png', 'created_at': 'Mon Mar 24 12:00:21 +0000 2014', 'statuses_count': 75554, 'notifications': None, 'profile_use_background_image': True, 'profile_image_url': 'http://pbs.twimg.com/profile_images/728322584031449088/B0OHViDg_normal.jpg', 'profile_background_image_url': 'http://abs.twimg.com/images/themes/theme1/bg.png', 'is_translator': False, 'profile_text_color': '333333', 'name': 'Homem Esportivo', 'verified': False, 'listed_count': 11, 'profile_sidebar_fill_color': 'DDEEF6', 'profile_image_url_https': 'https://pbs.twimg.com/profile_images/728322584031449088/B0OHViDg_normal.jpg', 'location': None, 'contributors_enabled': False, 'profile_background_color': 'C0DEED', 'screen_name': 'HomemEsportivo', 'following': None, 'time_zone': None, 'utc_offset': None, 'followers_count': 3696, 'description': 'Desde Março de 2014 Informando tudo que ocorre no Palmeiras.', 'profile_sidebar_border_color': 'C0DEED', 'favourites_count': 5681, 'url': None, 'follow_request_sent': None, 'profile_background_tile': False, 'lang': 'pt', 'protected': False}, 'in_reply_to_status_id_str': None, 'place': None, 'text': 'SE O PRASS FIZER O PALMEIRAS É CAMPEÃO, SE O PRASS FIZER O PALMEIRAS É CAMPEÃO... https://t.co/etKg0ZIWHT', 'retweet_count': 0, 'retweeted': False, 'contributors': None, 'in_reply_to_user_id': None, 'timestamp_ms': '1482055235281', 'favorite_count': 0, 'in_reply_to_status_id': None, 'coordinates': None, 'entities': {'user_mentions': [], 'urls': [{'expanded_url': 'http://fb.me/ZknuP0B9', 'indices': [82, 105], 'url': 'https://t.co/etKg0ZIWHT', 'display_url': 'fb.me/ZknuP0B9'}], 'hashtags': [], 'symbols': []}, 'favorited': False, 'lang': 'pt', 'is_quote_status': False}\n",
      "{'id_str': '810424512017760256', 'created_at': 'Sun Dec 18 10:00:35 +0000 2016', '_id': ObjectId('58565e46aeed0224ecb1127b'), 'text': 'SE O PRASS FIZER O PALMEIRAS É CAMPEÃO, SE O PRASS FIZER O PALMEIRAS É CAMPEÃO... https://t.co/etKg0ZIWHT'}\n",
      "{'id_str': '810424622474821632', 'truncated': False, 'id': 810424622474821632, 'in_reply_to_user_id_str': None, 'created_at': 'Sun Dec 18 10:01:01 +0000 2016', 'in_reply_to_screen_name': None, 'filter_level': 'low', 'geo': None, 'source': '<a href=\"http://twitter.com/download/iphone\" rel=\"nofollow\">Twitter for iPhone</a>', 'user': {'id_str': '175766923', 'profile_link_color': '0099B9', 'id': 175766923, 'friends_count': 712, 'default_profile': False, 'geo_enabled': True, 'default_profile_image': False, 'profile_background_image_url_https': 'https://abs.twimg.com/images/themes/theme4/bg.gif', 'created_at': 'Sat Aug 07 15:09:59 +0000 2010', 'statuses_count': 23244, 'notifications': None, 'profile_use_background_image': True, 'profile_image_url': 'http://pbs.twimg.com/profile_images/773871686223536128/dKGvB7g5_normal.jpg', 'profile_background_image_url': 'http://abs.twimg.com/images/themes/theme4/bg.gif', 'is_translator': False, 'profile_text_color': '3C3940', 'name': 'Adilton Oliveira', 'verified': False, 'listed_count': 4, 'profile_sidebar_fill_color': '95E8EC', 'profile_image_url_https': 'https://pbs.twimg.com/profile_images/773871686223536128/dKGvB7g5_normal.jpg', 'location': 'Sao Paulo', 'contributors_enabled': False, 'profile_background_color': '0099B9', 'screen_name': 'AdiltonBass', 'following': None, 'profile_banner_url': 'https://pbs.twimg.com/profile_banners/175766923/1449494489', 'time_zone': None, 'utc_offset': None, 'followers_count': 471, 'description': 'PALMEIRENSE, Baixista e casado. Servo de Jesus Cristo! Obrigado Deus pela vida.', 'profile_sidebar_border_color': '5ED4DC', 'favourites_count': 5756, 'url': None, 'follow_request_sent': None, 'profile_background_tile': False, 'lang': 'en', 'protected': False}, 'in_reply_to_status_id_str': None, 'retweeted_status': {'id_str': '810286995717156864', 'truncated': False, 'id': 810286995717156864, 'in_reply_to_user_id_str': None, 'created_at': 'Sun Dec 18 00:54:08 +0000 2016', 'in_reply_to_screen_name': None, 'filter_level': 'low', 'geo': None, 'source': '<a href=\"http://www.twitter.com\" rel=\"nofollow\">Twitter for Windows</a>', 'user': {'id_str': '527937407', 'profile_link_color': 'ABB8C2', 'id': 527937407, 'friends_count': 489, 'default_profile': False, 'geo_enabled': True, 'default_profile_image': False, 'profile_background_image_url_https': 'https://abs.twimg.com/images/themes/theme1/bg.png', 'created_at': 'Sat Mar 17 23:27:34 +0000 2012', 'statuses_count': 62915, 'notifications': None, 'profile_use_background_image': False, 'profile_image_url': 'http://pbs.twimg.com/profile_images/796465587929153536/FrbqEfjr_normal.jpg', 'profile_background_image_url': 'http://abs.twimg.com/images/themes/theme1/bg.png', 'is_translator': False, 'profile_text_color': '333333', 'name': 'Iratus Porcum • 🏆 •', 'verified': False, 'listed_count': 10, 'profile_sidebar_fill_color': 'DDEEF6', 'profile_image_url_https': 'https://pbs.twimg.com/profile_images/796465587929153536/FrbqEfjr_normal.jpg', 'location': None, 'contributors_enabled': False, 'profile_background_color': '000000', 'screen_name': 'IratusPorcum', 'following': None, 'profile_banner_url': 'https://pbs.twimg.com/profile_banners/527937407/1481739033', 'time_zone': 'Brasilia', 'utc_offset': -7200, 'followers_count': 1415, 'description': '9/10 - 90%\\nAQUI É PALMEIRAS!!', 'profile_sidebar_border_color': 'FFFFFF', 'favourites_count': 9213, 'url': None, 'follow_request_sent': None, 'profile_background_tile': False, 'lang': 'pt', 'protected': False}, 'in_reply_to_status_id_str': None, 'place': None, 'text': 'Gabriel Jesus sem ser mais atleta do Palmeiras, com a camisa do Palmeiras no Altas Horas. Atitude é pra quem tem. Respeito pra quem merece.', 'retweet_count': 62, 'retweeted': False, 'contributors': None, 'in_reply_to_user_id': None, 'favorite_count': 116, 'in_reply_to_status_id': None, 'coordinates': None, 'entities': {'user_mentions': [], 'urls': [], 'hashtags': [], 'symbols': []}, 'favorited': False, 'lang': 'pt', 'is_quote_status': False}, 'text': 'RT @IratusPorcum: Gabriel Jesus sem ser mais atleta do Palmeiras, com a camisa do Palmeiras no Altas Horas. Atitude é pra quem tem. Respeit…', 'favorited': False, 'retweet_count': 0, 'retweeted': False, 'contributors': None, 'in_reply_to_user_id': None, 'timestamp_ms': '1482055261616', 'favorite_count': 0, 'in_reply_to_status_id': None, 'coordinates': None, 'entities': {'user_mentions': [{'id_str': '527937407', 'indices': [3, 16], 'id': 527937407, 'screen_name': 'IratusPorcum', 'name': 'Iratus Porcum • 🏆 •'}], 'urls': [], 'hashtags': [], 'symbols': []}, 'place': None, 'lang': 'pt', 'is_quote_status': False}\n",
      "{'id_str': '810424622474821632', 'created_at': 'Sun Dec 18 10:01:01 +0000 2016', '_id': ObjectId('58565e60aeed0224ecb1127c'), 'text': 'RT @IratusPorcum: Gabriel Jesus sem ser mais atleta do Palmeiras, com a camisa do Palmeiras no Altas Horas. Atitude é pra quem tem. Respeit…'}\n"
     ]
    },
    {
     "ename": "KeyboardInterrupt",
     "evalue": "",
     "output_type": "error",
     "traceback": [
      "\u001b[0;31m---------------------------------------------------------------------------\u001b[0m",
      "\u001b[0;31mKeyboardInterrupt\u001b[0m                         Traceback (most recent call last)",
      "\u001b[0;32m<ipython-input-27-8f0eed42c826>\u001b[0m in \u001b[0;36m<module>\u001b[0;34m()\u001b[0m\n\u001b[1;32m      1\u001b[0m \u001b[1;31m# Iniciando o filtro e gravando os tweets no MongoDB\u001b[0m\u001b[1;33m\u001b[0m\u001b[1;33m\u001b[0m\u001b[0m\n\u001b[0;32m----> 2\u001b[0;31m \u001b[0mmystream\u001b[0m\u001b[1;33m.\u001b[0m\u001b[0mfilter\u001b[0m\u001b[1;33m(\u001b[0m\u001b[0mtrack\u001b[0m\u001b[1;33m=\u001b[0m\u001b[0mkeywords\u001b[0m\u001b[1;33m)\u001b[0m\u001b[1;33m\u001b[0m\u001b[0m\n\u001b[0m",
      "\u001b[0;32mC:\\Users\\sergi\\Anaconda3\\lib\\site-packages\\tweepy-3.5.0-py3.5.egg\\tweepy\\streaming.py\u001b[0m in \u001b[0;36mfilter\u001b[0;34m(self, follow, track, async, locations, stall_warnings, languages, encoding, filter_level)\u001b[0m\n\u001b[1;32m    443\u001b[0m         \u001b[0mself\u001b[0m\u001b[1;33m.\u001b[0m\u001b[0msession\u001b[0m\u001b[1;33m.\u001b[0m\u001b[0mparams\u001b[0m \u001b[1;33m=\u001b[0m \u001b[1;33m{\u001b[0m\u001b[1;34m'delimited'\u001b[0m\u001b[1;33m:\u001b[0m \u001b[1;34m'length'\u001b[0m\u001b[1;33m}\u001b[0m\u001b[1;33m\u001b[0m\u001b[0m\n\u001b[1;32m    444\u001b[0m         \u001b[0mself\u001b[0m\u001b[1;33m.\u001b[0m\u001b[0mhost\u001b[0m \u001b[1;33m=\u001b[0m \u001b[1;34m'stream.twitter.com'\u001b[0m\u001b[1;33m\u001b[0m\u001b[0m\n\u001b[0;32m--> 445\u001b[0;31m         \u001b[0mself\u001b[0m\u001b[1;33m.\u001b[0m\u001b[0m_start\u001b[0m\u001b[1;33m(\u001b[0m\u001b[0masync\u001b[0m\u001b[1;33m)\u001b[0m\u001b[1;33m\u001b[0m\u001b[0m\n\u001b[0m\u001b[1;32m    446\u001b[0m \u001b[1;33m\u001b[0m\u001b[0m\n\u001b[1;32m    447\u001b[0m     def sitestream(self, follow, stall_warnings=False,\n",
      "\u001b[0;32mC:\\Users\\sergi\\Anaconda3\\lib\\site-packages\\tweepy-3.5.0-py3.5.egg\\tweepy\\streaming.py\u001b[0m in \u001b[0;36m_start\u001b[0;34m(self, async)\u001b[0m\n\u001b[1;32m    359\u001b[0m             \u001b[0mself\u001b[0m\u001b[1;33m.\u001b[0m\u001b[0m_thread\u001b[0m\u001b[1;33m.\u001b[0m\u001b[0mstart\u001b[0m\u001b[1;33m(\u001b[0m\u001b[1;33m)\u001b[0m\u001b[1;33m\u001b[0m\u001b[0m\n\u001b[1;32m    360\u001b[0m         \u001b[1;32melse\u001b[0m\u001b[1;33m:\u001b[0m\u001b[1;33m\u001b[0m\u001b[0m\n\u001b[0;32m--> 361\u001b[0;31m             \u001b[0mself\u001b[0m\u001b[1;33m.\u001b[0m\u001b[0m_run\u001b[0m\u001b[1;33m(\u001b[0m\u001b[1;33m)\u001b[0m\u001b[1;33m\u001b[0m\u001b[0m\n\u001b[0m\u001b[1;32m    362\u001b[0m \u001b[1;33m\u001b[0m\u001b[0m\n\u001b[1;32m    363\u001b[0m     \u001b[1;32mdef\u001b[0m \u001b[0mon_closed\u001b[0m\u001b[1;33m(\u001b[0m\u001b[0mself\u001b[0m\u001b[1;33m,\u001b[0m \u001b[0mresp\u001b[0m\u001b[1;33m)\u001b[0m\u001b[1;33m:\u001b[0m\u001b[1;33m\u001b[0m\u001b[0m\n",
      "\u001b[0;32mC:\\Users\\sergi\\Anaconda3\\lib\\site-packages\\tweepy-3.5.0-py3.5.egg\\tweepy\\streaming.py\u001b[0m in \u001b[0;36m_run\u001b[0;34m(self)\u001b[0m\n\u001b[1;32m    261\u001b[0m                     \u001b[0mself\u001b[0m\u001b[1;33m.\u001b[0m\u001b[0msnooze_time\u001b[0m \u001b[1;33m=\u001b[0m \u001b[0mself\u001b[0m\u001b[1;33m.\u001b[0m\u001b[0msnooze_time_step\u001b[0m\u001b[1;33m\u001b[0m\u001b[0m\n\u001b[1;32m    262\u001b[0m                     \u001b[0mself\u001b[0m\u001b[1;33m.\u001b[0m\u001b[0mlistener\u001b[0m\u001b[1;33m.\u001b[0m\u001b[0mon_connect\u001b[0m\u001b[1;33m(\u001b[0m\u001b[1;33m)\u001b[0m\u001b[1;33m\u001b[0m\u001b[0m\n\u001b[0;32m--> 263\u001b[0;31m                     \u001b[0mself\u001b[0m\u001b[1;33m.\u001b[0m\u001b[0m_read_loop\u001b[0m\u001b[1;33m(\u001b[0m\u001b[0mresp\u001b[0m\u001b[1;33m)\u001b[0m\u001b[1;33m\u001b[0m\u001b[0m\n\u001b[0m\u001b[1;32m    264\u001b[0m             \u001b[1;32mexcept\u001b[0m \u001b[1;33m(\u001b[0m\u001b[0mTimeout\u001b[0m\u001b[1;33m,\u001b[0m \u001b[0mssl\u001b[0m\u001b[1;33m.\u001b[0m\u001b[0mSSLError\u001b[0m\u001b[1;33m)\u001b[0m \u001b[1;32mas\u001b[0m \u001b[0mexc\u001b[0m\u001b[1;33m:\u001b[0m\u001b[1;33m\u001b[0m\u001b[0m\n\u001b[1;32m    265\u001b[0m                 \u001b[1;31m# This is still necessary, as a SSLError can actually be\u001b[0m\u001b[1;33m\u001b[0m\u001b[1;33m\u001b[0m\u001b[0m\n",
      "\u001b[0;32mC:\\Users\\sergi\\Anaconda3\\lib\\site-packages\\tweepy-3.5.0-py3.5.egg\\tweepy\\streaming.py\u001b[0m in \u001b[0;36m_read_loop\u001b[0;34m(self, resp)\u001b[0m\n\u001b[1;32m    311\u001b[0m             \u001b[0mlength\u001b[0m \u001b[1;33m=\u001b[0m \u001b[1;36m0\u001b[0m\u001b[1;33m\u001b[0m\u001b[0m\n\u001b[1;32m    312\u001b[0m             \u001b[1;32mwhile\u001b[0m \u001b[1;32mnot\u001b[0m \u001b[0mresp\u001b[0m\u001b[1;33m.\u001b[0m\u001b[0mraw\u001b[0m\u001b[1;33m.\u001b[0m\u001b[0mclosed\u001b[0m\u001b[1;33m:\u001b[0m\u001b[1;33m\u001b[0m\u001b[0m\n\u001b[0;32m--> 313\u001b[0;31m                 \u001b[0mline\u001b[0m \u001b[1;33m=\u001b[0m \u001b[0mbuf\u001b[0m\u001b[1;33m.\u001b[0m\u001b[0mread_line\u001b[0m\u001b[1;33m(\u001b[0m\u001b[1;33m)\u001b[0m\u001b[1;33m.\u001b[0m\u001b[0mstrip\u001b[0m\u001b[1;33m(\u001b[0m\u001b[1;33m)\u001b[0m\u001b[1;33m\u001b[0m\u001b[0m\n\u001b[0m\u001b[1;32m    314\u001b[0m                 \u001b[1;32mif\u001b[0m \u001b[1;32mnot\u001b[0m \u001b[0mline\u001b[0m\u001b[1;33m:\u001b[0m\u001b[1;33m\u001b[0m\u001b[0m\n\u001b[1;32m    315\u001b[0m                     \u001b[0mself\u001b[0m\u001b[1;33m.\u001b[0m\u001b[0mlistener\u001b[0m\u001b[1;33m.\u001b[0m\u001b[0mkeep_alive\u001b[0m\u001b[1;33m(\u001b[0m\u001b[1;33m)\u001b[0m  \u001b[1;31m# keep-alive new lines are expected\u001b[0m\u001b[1;33m\u001b[0m\u001b[0m\n",
      "\u001b[0;32mC:\\Users\\sergi\\Anaconda3\\lib\\site-packages\\tweepy-3.5.0-py3.5.egg\\tweepy\\streaming.py\u001b[0m in \u001b[0;36mread_line\u001b[0;34m(self, sep)\u001b[0m\n\u001b[1;32m    177\u001b[0m             \u001b[1;32melse\u001b[0m\u001b[1;33m:\u001b[0m\u001b[1;33m\u001b[0m\u001b[0m\n\u001b[1;32m    178\u001b[0m                 \u001b[0mstart\u001b[0m \u001b[1;33m=\u001b[0m \u001b[0mlen\u001b[0m\u001b[1;33m(\u001b[0m\u001b[0mself\u001b[0m\u001b[1;33m.\u001b[0m\u001b[0m_buffer\u001b[0m\u001b[1;33m)\u001b[0m\u001b[1;33m\u001b[0m\u001b[0m\n\u001b[0;32m--> 179\u001b[0;31m             \u001b[0mself\u001b[0m\u001b[1;33m.\u001b[0m\u001b[0m_buffer\u001b[0m \u001b[1;33m+=\u001b[0m \u001b[0mself\u001b[0m\u001b[1;33m.\u001b[0m\u001b[0m_stream\u001b[0m\u001b[1;33m.\u001b[0m\u001b[0mread\u001b[0m\u001b[1;33m(\u001b[0m\u001b[0mself\u001b[0m\u001b[1;33m.\u001b[0m\u001b[0m_chunk_size\u001b[0m\u001b[1;33m)\u001b[0m\u001b[1;33m\u001b[0m\u001b[0m\n\u001b[0m\u001b[1;32m    180\u001b[0m \u001b[1;33m\u001b[0m\u001b[0m\n\u001b[1;32m    181\u001b[0m     \u001b[1;32mdef\u001b[0m \u001b[0m_pop\u001b[0m\u001b[1;33m(\u001b[0m\u001b[0mself\u001b[0m\u001b[1;33m,\u001b[0m \u001b[0mlength\u001b[0m\u001b[1;33m)\u001b[0m\u001b[1;33m:\u001b[0m\u001b[1;33m\u001b[0m\u001b[0m\n",
      "\u001b[0;32mC:\\Users\\sergi\\Anaconda3\\lib\\site-packages\\requests\\packages\\urllib3\\response.py\u001b[0m in \u001b[0;36mread\u001b[0;34m(self, amt, decode_content, cache_content)\u001b[0m\n\u001b[1;32m    312\u001b[0m             \u001b[1;32melse\u001b[0m\u001b[1;33m:\u001b[0m\u001b[1;33m\u001b[0m\u001b[0m\n\u001b[1;32m    313\u001b[0m                 \u001b[0mcache_content\u001b[0m \u001b[1;33m=\u001b[0m \u001b[1;32mFalse\u001b[0m\u001b[1;33m\u001b[0m\u001b[0m\n\u001b[0;32m--> 314\u001b[0;31m                 \u001b[0mdata\u001b[0m \u001b[1;33m=\u001b[0m \u001b[0mself\u001b[0m\u001b[1;33m.\u001b[0m\u001b[0m_fp\u001b[0m\u001b[1;33m.\u001b[0m\u001b[0mread\u001b[0m\u001b[1;33m(\u001b[0m\u001b[0mamt\u001b[0m\u001b[1;33m)\u001b[0m\u001b[1;33m\u001b[0m\u001b[0m\n\u001b[0m\u001b[1;32m    315\u001b[0m                 \u001b[1;32mif\u001b[0m \u001b[0mamt\u001b[0m \u001b[1;33m!=\u001b[0m \u001b[1;36m0\u001b[0m \u001b[1;32mand\u001b[0m \u001b[1;32mnot\u001b[0m \u001b[0mdata\u001b[0m\u001b[1;33m:\u001b[0m  \u001b[1;31m# Platform-specific: Buggy versions of Python.\u001b[0m\u001b[1;33m\u001b[0m\u001b[0m\n\u001b[1;32m    316\u001b[0m                     \u001b[1;31m# Close the connection when no data is returned\u001b[0m\u001b[1;33m\u001b[0m\u001b[1;33m\u001b[0m\u001b[0m\n",
      "\u001b[0;32mC:\\Users\\sergi\\Anaconda3\\lib\\http\\client.py\u001b[0m in \u001b[0;36mread\u001b[0;34m(self, amt)\u001b[0m\n\u001b[1;32m    446\u001b[0m             \u001b[1;31m# Amount is given, implement using readinto\u001b[0m\u001b[1;33m\u001b[0m\u001b[1;33m\u001b[0m\u001b[0m\n\u001b[1;32m    447\u001b[0m             \u001b[0mb\u001b[0m \u001b[1;33m=\u001b[0m \u001b[0mbytearray\u001b[0m\u001b[1;33m(\u001b[0m\u001b[0mamt\u001b[0m\u001b[1;33m)\u001b[0m\u001b[1;33m\u001b[0m\u001b[0m\n\u001b[0;32m--> 448\u001b[0;31m             \u001b[0mn\u001b[0m \u001b[1;33m=\u001b[0m \u001b[0mself\u001b[0m\u001b[1;33m.\u001b[0m\u001b[0mreadinto\u001b[0m\u001b[1;33m(\u001b[0m\u001b[0mb\u001b[0m\u001b[1;33m)\u001b[0m\u001b[1;33m\u001b[0m\u001b[0m\n\u001b[0m\u001b[1;32m    449\u001b[0m             \u001b[1;32mreturn\u001b[0m \u001b[0mmemoryview\u001b[0m\u001b[1;33m(\u001b[0m\u001b[0mb\u001b[0m\u001b[1;33m)\u001b[0m\u001b[1;33m[\u001b[0m\u001b[1;33m:\u001b[0m\u001b[0mn\u001b[0m\u001b[1;33m]\u001b[0m\u001b[1;33m.\u001b[0m\u001b[0mtobytes\u001b[0m\u001b[1;33m(\u001b[0m\u001b[1;33m)\u001b[0m\u001b[1;33m\u001b[0m\u001b[0m\n\u001b[1;32m    450\u001b[0m         \u001b[1;32melse\u001b[0m\u001b[1;33m:\u001b[0m\u001b[1;33m\u001b[0m\u001b[0m\n",
      "\u001b[0;32mC:\\Users\\sergi\\Anaconda3\\lib\\http\\client.py\u001b[0m in \u001b[0;36mreadinto\u001b[0;34m(self, b)\u001b[0m\n\u001b[1;32m    476\u001b[0m \u001b[1;33m\u001b[0m\u001b[0m\n\u001b[1;32m    477\u001b[0m         \u001b[1;32mif\u001b[0m \u001b[0mself\u001b[0m\u001b[1;33m.\u001b[0m\u001b[0mchunked\u001b[0m\u001b[1;33m:\u001b[0m\u001b[1;33m\u001b[0m\u001b[0m\n\u001b[0;32m--> 478\u001b[0;31m             \u001b[1;32mreturn\u001b[0m \u001b[0mself\u001b[0m\u001b[1;33m.\u001b[0m\u001b[0m_readinto_chunked\u001b[0m\u001b[1;33m(\u001b[0m\u001b[0mb\u001b[0m\u001b[1;33m)\u001b[0m\u001b[1;33m\u001b[0m\u001b[0m\n\u001b[0m\u001b[1;32m    479\u001b[0m \u001b[1;33m\u001b[0m\u001b[0m\n\u001b[1;32m    480\u001b[0m         \u001b[1;32mif\u001b[0m \u001b[0mself\u001b[0m\u001b[1;33m.\u001b[0m\u001b[0mlength\u001b[0m \u001b[1;32mis\u001b[0m \u001b[1;32mnot\u001b[0m \u001b[1;32mNone\u001b[0m\u001b[1;33m:\u001b[0m\u001b[1;33m\u001b[0m\u001b[0m\n",
      "\u001b[0;32mC:\\Users\\sergi\\Anaconda3\\lib\\http\\client.py\u001b[0m in \u001b[0;36m_readinto_chunked\u001b[0;34m(self, b)\u001b[0m\n\u001b[1;32m    571\u001b[0m         \u001b[1;32mtry\u001b[0m\u001b[1;33m:\u001b[0m\u001b[1;33m\u001b[0m\u001b[0m\n\u001b[1;32m    572\u001b[0m             \u001b[1;32mwhile\u001b[0m \u001b[1;32mTrue\u001b[0m\u001b[1;33m:\u001b[0m\u001b[1;33m\u001b[0m\u001b[0m\n\u001b[0;32m--> 573\u001b[0;31m                 \u001b[0mchunk_left\u001b[0m \u001b[1;33m=\u001b[0m \u001b[0mself\u001b[0m\u001b[1;33m.\u001b[0m\u001b[0m_get_chunk_left\u001b[0m\u001b[1;33m(\u001b[0m\u001b[1;33m)\u001b[0m\u001b[1;33m\u001b[0m\u001b[0m\n\u001b[0m\u001b[1;32m    574\u001b[0m                 \u001b[1;32mif\u001b[0m \u001b[0mchunk_left\u001b[0m \u001b[1;32mis\u001b[0m \u001b[1;32mNone\u001b[0m\u001b[1;33m:\u001b[0m\u001b[1;33m\u001b[0m\u001b[0m\n\u001b[1;32m    575\u001b[0m                     \u001b[1;32mreturn\u001b[0m \u001b[0mtotal_bytes\u001b[0m\u001b[1;33m\u001b[0m\u001b[0m\n",
      "\u001b[0;32mC:\\Users\\sergi\\Anaconda3\\lib\\http\\client.py\u001b[0m in \u001b[0;36m_get_chunk_left\u001b[0;34m(self)\u001b[0m\n\u001b[1;32m    539\u001b[0m                 \u001b[0mself\u001b[0m\u001b[1;33m.\u001b[0m\u001b[0m_safe_read\u001b[0m\u001b[1;33m(\u001b[0m\u001b[1;36m2\u001b[0m\u001b[1;33m)\u001b[0m  \u001b[1;31m# toss the CRLF at the end of the chunk\u001b[0m\u001b[1;33m\u001b[0m\u001b[0m\n\u001b[1;32m    540\u001b[0m             \u001b[1;32mtry\u001b[0m\u001b[1;33m:\u001b[0m\u001b[1;33m\u001b[0m\u001b[0m\n\u001b[0;32m--> 541\u001b[0;31m                 \u001b[0mchunk_left\u001b[0m \u001b[1;33m=\u001b[0m \u001b[0mself\u001b[0m\u001b[1;33m.\u001b[0m\u001b[0m_read_next_chunk_size\u001b[0m\u001b[1;33m(\u001b[0m\u001b[1;33m)\u001b[0m\u001b[1;33m\u001b[0m\u001b[0m\n\u001b[0m\u001b[1;32m    542\u001b[0m             \u001b[1;32mexcept\u001b[0m \u001b[0mValueError\u001b[0m\u001b[1;33m:\u001b[0m\u001b[1;33m\u001b[0m\u001b[0m\n\u001b[1;32m    543\u001b[0m                 \u001b[1;32mraise\u001b[0m \u001b[0mIncompleteRead\u001b[0m\u001b[1;33m(\u001b[0m\u001b[1;34mb''\u001b[0m\u001b[1;33m)\u001b[0m\u001b[1;33m\u001b[0m\u001b[0m\n",
      "\u001b[0;32mC:\\Users\\sergi\\Anaconda3\\lib\\http\\client.py\u001b[0m in \u001b[0;36m_read_next_chunk_size\u001b[0;34m(self)\u001b[0m\n\u001b[1;32m    499\u001b[0m     \u001b[1;32mdef\u001b[0m \u001b[0m_read_next_chunk_size\u001b[0m\u001b[1;33m(\u001b[0m\u001b[0mself\u001b[0m\u001b[1;33m)\u001b[0m\u001b[1;33m:\u001b[0m\u001b[1;33m\u001b[0m\u001b[0m\n\u001b[1;32m    500\u001b[0m         \u001b[1;31m# Read the next chunk size from the file\u001b[0m\u001b[1;33m\u001b[0m\u001b[1;33m\u001b[0m\u001b[0m\n\u001b[0;32m--> 501\u001b[0;31m         \u001b[0mline\u001b[0m \u001b[1;33m=\u001b[0m \u001b[0mself\u001b[0m\u001b[1;33m.\u001b[0m\u001b[0mfp\u001b[0m\u001b[1;33m.\u001b[0m\u001b[0mreadline\u001b[0m\u001b[1;33m(\u001b[0m\u001b[0m_MAXLINE\u001b[0m \u001b[1;33m+\u001b[0m \u001b[1;36m1\u001b[0m\u001b[1;33m)\u001b[0m\u001b[1;33m\u001b[0m\u001b[0m\n\u001b[0m\u001b[1;32m    502\u001b[0m         \u001b[1;32mif\u001b[0m \u001b[0mlen\u001b[0m\u001b[1;33m(\u001b[0m\u001b[0mline\u001b[0m\u001b[1;33m)\u001b[0m \u001b[1;33m>\u001b[0m \u001b[0m_MAXLINE\u001b[0m\u001b[1;33m:\u001b[0m\u001b[1;33m\u001b[0m\u001b[0m\n\u001b[1;32m    503\u001b[0m             \u001b[1;32mraise\u001b[0m \u001b[0mLineTooLong\u001b[0m\u001b[1;33m(\u001b[0m\u001b[1;34m\"chunk size\"\u001b[0m\u001b[1;33m)\u001b[0m\u001b[1;33m\u001b[0m\u001b[0m\n",
      "\u001b[0;32mC:\\Users\\sergi\\Anaconda3\\lib\\socket.py\u001b[0m in \u001b[0;36mreadinto\u001b[0;34m(self, b)\u001b[0m\n\u001b[1;32m    573\u001b[0m         \u001b[1;32mwhile\u001b[0m \u001b[1;32mTrue\u001b[0m\u001b[1;33m:\u001b[0m\u001b[1;33m\u001b[0m\u001b[0m\n\u001b[1;32m    574\u001b[0m             \u001b[1;32mtry\u001b[0m\u001b[1;33m:\u001b[0m\u001b[1;33m\u001b[0m\u001b[0m\n\u001b[0;32m--> 575\u001b[0;31m                 \u001b[1;32mreturn\u001b[0m \u001b[0mself\u001b[0m\u001b[1;33m.\u001b[0m\u001b[0m_sock\u001b[0m\u001b[1;33m.\u001b[0m\u001b[0mrecv_into\u001b[0m\u001b[1;33m(\u001b[0m\u001b[0mb\u001b[0m\u001b[1;33m)\u001b[0m\u001b[1;33m\u001b[0m\u001b[0m\n\u001b[0m\u001b[1;32m    576\u001b[0m             \u001b[1;32mexcept\u001b[0m \u001b[0mtimeout\u001b[0m\u001b[1;33m:\u001b[0m\u001b[1;33m\u001b[0m\u001b[0m\n\u001b[1;32m    577\u001b[0m                 \u001b[0mself\u001b[0m\u001b[1;33m.\u001b[0m\u001b[0m_timeout_occurred\u001b[0m \u001b[1;33m=\u001b[0m \u001b[1;32mTrue\u001b[0m\u001b[1;33m\u001b[0m\u001b[0m\n",
      "\u001b[0;32mC:\\Users\\sergi\\Anaconda3\\lib\\ssl.py\u001b[0m in \u001b[0;36mrecv_into\u001b[0;34m(self, buffer, nbytes, flags)\u001b[0m\n\u001b[1;32m    927\u001b[0m                   \u001b[1;34m\"non-zero flags not allowed in calls to recv_into() on %s\"\u001b[0m \u001b[1;33m%\u001b[0m\u001b[1;33m\u001b[0m\u001b[0m\n\u001b[1;32m    928\u001b[0m                   self.__class__)\n\u001b[0;32m--> 929\u001b[0;31m             \u001b[1;32mreturn\u001b[0m \u001b[0mself\u001b[0m\u001b[1;33m.\u001b[0m\u001b[0mread\u001b[0m\u001b[1;33m(\u001b[0m\u001b[0mnbytes\u001b[0m\u001b[1;33m,\u001b[0m \u001b[0mbuffer\u001b[0m\u001b[1;33m)\u001b[0m\u001b[1;33m\u001b[0m\u001b[0m\n\u001b[0m\u001b[1;32m    930\u001b[0m         \u001b[1;32melse\u001b[0m\u001b[1;33m:\u001b[0m\u001b[1;33m\u001b[0m\u001b[0m\n\u001b[1;32m    931\u001b[0m             \u001b[1;32mreturn\u001b[0m \u001b[0msocket\u001b[0m\u001b[1;33m.\u001b[0m\u001b[0mrecv_into\u001b[0m\u001b[1;33m(\u001b[0m\u001b[0mself\u001b[0m\u001b[1;33m,\u001b[0m \u001b[0mbuffer\u001b[0m\u001b[1;33m,\u001b[0m \u001b[0mnbytes\u001b[0m\u001b[1;33m,\u001b[0m \u001b[0mflags\u001b[0m\u001b[1;33m)\u001b[0m\u001b[1;33m\u001b[0m\u001b[0m\n",
      "\u001b[0;32mC:\\Users\\sergi\\Anaconda3\\lib\\ssl.py\u001b[0m in \u001b[0;36mread\u001b[0;34m(self, len, buffer)\u001b[0m\n\u001b[1;32m    789\u001b[0m             \u001b[1;32mraise\u001b[0m \u001b[0mValueError\u001b[0m\u001b[1;33m(\u001b[0m\u001b[1;34m\"Read on closed or unwrapped SSL socket.\"\u001b[0m\u001b[1;33m)\u001b[0m\u001b[1;33m\u001b[0m\u001b[0m\n\u001b[1;32m    790\u001b[0m         \u001b[1;32mtry\u001b[0m\u001b[1;33m:\u001b[0m\u001b[1;33m\u001b[0m\u001b[0m\n\u001b[0;32m--> 791\u001b[0;31m             \u001b[1;32mreturn\u001b[0m \u001b[0mself\u001b[0m\u001b[1;33m.\u001b[0m\u001b[0m_sslobj\u001b[0m\u001b[1;33m.\u001b[0m\u001b[0mread\u001b[0m\u001b[1;33m(\u001b[0m\u001b[0mlen\u001b[0m\u001b[1;33m,\u001b[0m \u001b[0mbuffer\u001b[0m\u001b[1;33m)\u001b[0m\u001b[1;33m\u001b[0m\u001b[0m\n\u001b[0m\u001b[1;32m    792\u001b[0m         \u001b[1;32mexcept\u001b[0m \u001b[0mSSLError\u001b[0m \u001b[1;32mas\u001b[0m \u001b[0mx\u001b[0m\u001b[1;33m:\u001b[0m\u001b[1;33m\u001b[0m\u001b[0m\n\u001b[1;32m    793\u001b[0m             \u001b[1;32mif\u001b[0m \u001b[0mx\u001b[0m\u001b[1;33m.\u001b[0m\u001b[0margs\u001b[0m\u001b[1;33m[\u001b[0m\u001b[1;36m0\u001b[0m\u001b[1;33m]\u001b[0m \u001b[1;33m==\u001b[0m \u001b[0mSSL_ERROR_EOF\u001b[0m \u001b[1;32mand\u001b[0m \u001b[0mself\u001b[0m\u001b[1;33m.\u001b[0m\u001b[0msuppress_ragged_eofs\u001b[0m\u001b[1;33m:\u001b[0m\u001b[1;33m\u001b[0m\u001b[0m\n",
      "\u001b[0;32mC:\\Users\\sergi\\Anaconda3\\lib\\ssl.py\u001b[0m in \u001b[0;36mread\u001b[0;34m(self, len, buffer)\u001b[0m\n\u001b[1;32m    573\u001b[0m         \"\"\"\n\u001b[1;32m    574\u001b[0m         \u001b[1;32mif\u001b[0m \u001b[0mbuffer\u001b[0m \u001b[1;32mis\u001b[0m \u001b[1;32mnot\u001b[0m \u001b[1;32mNone\u001b[0m\u001b[1;33m:\u001b[0m\u001b[1;33m\u001b[0m\u001b[0m\n\u001b[0;32m--> 575\u001b[0;31m             \u001b[0mv\u001b[0m \u001b[1;33m=\u001b[0m \u001b[0mself\u001b[0m\u001b[1;33m.\u001b[0m\u001b[0m_sslobj\u001b[0m\u001b[1;33m.\u001b[0m\u001b[0mread\u001b[0m\u001b[1;33m(\u001b[0m\u001b[0mlen\u001b[0m\u001b[1;33m,\u001b[0m \u001b[0mbuffer\u001b[0m\u001b[1;33m)\u001b[0m\u001b[1;33m\u001b[0m\u001b[0m\n\u001b[0m\u001b[1;32m    576\u001b[0m         \u001b[1;32melse\u001b[0m\u001b[1;33m:\u001b[0m\u001b[1;33m\u001b[0m\u001b[0m\n\u001b[1;32m    577\u001b[0m             \u001b[0mv\u001b[0m \u001b[1;33m=\u001b[0m \u001b[0mself\u001b[0m\u001b[1;33m.\u001b[0m\u001b[0m_sslobj\u001b[0m\u001b[1;33m.\u001b[0m\u001b[0mread\u001b[0m\u001b[1;33m(\u001b[0m\u001b[0mlen\u001b[0m\u001b[1;33m)\u001b[0m\u001b[1;33m\u001b[0m\u001b[0m\n",
      "\u001b[0;31mKeyboardInterrupt\u001b[0m: "
     ]
    }
   ],
   "source": [
    "# Iniciando o filtro e gravando os tweets no MongoDB\n",
    "mystream.filter(track=keywords)"
   ]
  },
  {
   "cell_type": "markdown",
   "metadata": {
    "collapsed": true
   },
   "source": [
    "## Aperte o botão STOP na barra de ferramentas para parar a coleta de dados no Twitter"
   ]
  },
  {
   "cell_type": "code",
   "execution_count": 28,
   "metadata": {
    "collapsed": false
   },
   "outputs": [
    {
     "data": {
      "text/plain": [
       "{'_id': ObjectId('5854778eaeed02107c6859fa'),\n",
       " 'created_at': 'Fri Dec 16 23:23:56 +0000 2016',\n",
       " 'id_str': '809901908001521668',\n",
       " 'text': 'RT @pythontrending: bowtie - create a dashboard with python! https://t.co/uyWtHldB8V'}"
      ]
     },
     "execution_count": 28,
     "metadata": {},
     "output_type": "execute_result"
    }
   ],
   "source": [
    "col.find_one()"
   ]
  },
  {
   "cell_type": "code",
   "execution_count": 29,
   "metadata": {
    "collapsed": false
   },
   "outputs": [],
   "source": [
    "# Criando um dataset retornando os dados do MongoDB\n",
    "dataset = [{\n",
    "        'created_at': item['created_at'],\n",
    "        'text': item['text']\n",
    "    } for item in col.find()]"
   ]
  },
  {
   "cell_type": "code",
   "execution_count": 30,
   "metadata": {
    "collapsed": true
   },
   "outputs": [],
   "source": [
    "import pandas as pd"
   ]
  },
  {
   "cell_type": "code",
   "execution_count": 31,
   "metadata": {
    "collapsed": true
   },
   "outputs": [],
   "source": [
    "df = pd.DataFrame(dataset)"
   ]
  },
  {
   "cell_type": "code",
   "execution_count": 32,
   "metadata": {
    "collapsed": false
   },
   "outputs": [
    {
     "data": {
      "text/html": [
       "<div>\n",
       "<table border=\"1\" class=\"dataframe\">\n",
       "  <thead>\n",
       "    <tr style=\"text-align: right;\">\n",
       "      <th></th>\n",
       "      <th>created_at</th>\n",
       "      <th>text</th>\n",
       "    </tr>\n",
       "  </thead>\n",
       "  <tbody>\n",
       "    <tr>\n",
       "      <th>0</th>\n",
       "      <td>Fri Dec 16 23:23:56 +0000 2016</td>\n",
       "      <td>RT @pythontrending: bowtie - create a dashboar...</td>\n",
       "    </tr>\n",
       "    <tr>\n",
       "      <th>1</th>\n",
       "      <td>Fri Dec 16 23:23:59 +0000 2016</td>\n",
       "      <td>Tweets and python BFF &amp;lt;3 2446280.807651111</td>\n",
       "    </tr>\n",
       "    <tr>\n",
       "      <th>2</th>\n",
       "      <td>Fri Dec 16 23:24:00 +0000 2016</td>\n",
       "      <td>Manually raising (throwing) an exception in Py...</td>\n",
       "    </tr>\n",
       "    <tr>\n",
       "      <th>3</th>\n",
       "      <td>Fri Dec 16 23:24:00 +0000 2016</td>\n",
       "      <td>RT @VisualStudio: Here's a post and video from...</td>\n",
       "    </tr>\n",
       "    <tr>\n",
       "      <th>4</th>\n",
       "      <td>Fri Dec 16 23:24:06 +0000 2016</td>\n",
       "      <td>RT @agramfort: It looks like I forgot to tell ...</td>\n",
       "    </tr>\n",
       "    <tr>\n",
       "      <th>5</th>\n",
       "      <td>Fri Dec 16 23:24:11 +0000 2016</td>\n",
       "      <td>RT @dyjh: My new book out in print. Listed #Vo...</td>\n",
       "    </tr>\n",
       "    <tr>\n",
       "      <th>6</th>\n",
       "      <td>Fri Dec 16 23:24:15 +0000 2016</td>\n",
       "      <td>It's interesting how recent studies are suppor...</td>\n",
       "    </tr>\n",
       "    <tr>\n",
       "      <th>7</th>\n",
       "      <td>Fri Dec 16 23:24:24 +0000 2016</td>\n",
       "      <td>Santé et Big Data : une véritable course d'obs...</td>\n",
       "    </tr>\n",
       "    <tr>\n",
       "      <th>8</th>\n",
       "      <td>Fri Dec 16 23:24:31 +0000 2016</td>\n",
       "      <td>@landerso30 there is never enough data when th...</td>\n",
       "    </tr>\n",
       "    <tr>\n",
       "      <th>9</th>\n",
       "      <td>Fri Dec 16 23:24:36 +0000 2016</td>\n",
       "      <td>RT @MegaDataMama: 'Big Data' Questioned in Wak...</td>\n",
       "    </tr>\n",
       "    <tr>\n",
       "      <th>10</th>\n",
       "      <td>Fri Dec 16 23:24:43 +0000 2016</td>\n",
       "      <td>@IngBeltranC Mira lo que tengo y tú no... Ya s...</td>\n",
       "    </tr>\n",
       "    <tr>\n",
       "      <th>11</th>\n",
       "      <td>Fri Dec 16 23:24:54 +0000 2016</td>\n",
       "      <td>10 Data Science, Machine Learning and #IoT Pre...</td>\n",
       "    </tr>\n",
       "    <tr>\n",
       "      <th>12</th>\n",
       "      <td>Sun Dec 18 09:59:28 +0000 2016</td>\n",
       "      <td>RT @radiobiafralive: Much Ado About Operation ...</td>\n",
       "    </tr>\n",
       "    <tr>\n",
       "      <th>13</th>\n",
       "      <td>Sun Dec 18 09:59:30 +0000 2016</td>\n",
       "      <td>RT @KottiPillar: #Michigan election HACKED\\n#P...</td>\n",
       "    </tr>\n",
       "    <tr>\n",
       "      <th>14</th>\n",
       "      <td>Sun Dec 18 09:59:30 +0000 2016</td>\n",
       "      <td>RT @radiobiafralive: Much Ado About Operation ...</td>\n",
       "    </tr>\n",
       "    <tr>\n",
       "      <th>15</th>\n",
       "      <td>Sun Dec 18 09:59:35 +0000 2016</td>\n",
       "      <td>RT @SpaceCharlieUK: Former @NASA chief scienti...</td>\n",
       "    </tr>\n",
       "    <tr>\n",
       "      <th>16</th>\n",
       "      <td>Sun Dec 18 10:00:28 +0000 2016</td>\n",
       "      <td>RT @5PFC_M1L_Gr4u: esse américa do méxico todo...</td>\n",
       "    </tr>\n",
       "    <tr>\n",
       "      <th>17</th>\n",
       "      <td>Sun Dec 18 10:00:35 +0000 2016</td>\n",
       "      <td>SE O PRASS FIZER O PALMEIRAS É CAMPEÃO, SE O P...</td>\n",
       "    </tr>\n",
       "    <tr>\n",
       "      <th>18</th>\n",
       "      <td>Sun Dec 18 10:01:01 +0000 2016</td>\n",
       "      <td>RT @IratusPorcum: Gabriel Jesus sem ser mais a...</td>\n",
       "    </tr>\n",
       "  </tbody>\n",
       "</table>\n",
       "</div>"
      ],
      "text/plain": [
       "                        created_at  \\\n",
       "0   Fri Dec 16 23:23:56 +0000 2016   \n",
       "1   Fri Dec 16 23:23:59 +0000 2016   \n",
       "2   Fri Dec 16 23:24:00 +0000 2016   \n",
       "3   Fri Dec 16 23:24:00 +0000 2016   \n",
       "4   Fri Dec 16 23:24:06 +0000 2016   \n",
       "5   Fri Dec 16 23:24:11 +0000 2016   \n",
       "6   Fri Dec 16 23:24:15 +0000 2016   \n",
       "7   Fri Dec 16 23:24:24 +0000 2016   \n",
       "8   Fri Dec 16 23:24:31 +0000 2016   \n",
       "9   Fri Dec 16 23:24:36 +0000 2016   \n",
       "10  Fri Dec 16 23:24:43 +0000 2016   \n",
       "11  Fri Dec 16 23:24:54 +0000 2016   \n",
       "12  Sun Dec 18 09:59:28 +0000 2016   \n",
       "13  Sun Dec 18 09:59:30 +0000 2016   \n",
       "14  Sun Dec 18 09:59:30 +0000 2016   \n",
       "15  Sun Dec 18 09:59:35 +0000 2016   \n",
       "16  Sun Dec 18 10:00:28 +0000 2016   \n",
       "17  Sun Dec 18 10:00:35 +0000 2016   \n",
       "18  Sun Dec 18 10:01:01 +0000 2016   \n",
       "\n",
       "                                                 text  \n",
       "0   RT @pythontrending: bowtie - create a dashboar...  \n",
       "1       Tweets and python BFF &lt;3 2446280.807651111  \n",
       "2   Manually raising (throwing) an exception in Py...  \n",
       "3   RT @VisualStudio: Here's a post and video from...  \n",
       "4   RT @agramfort: It looks like I forgot to tell ...  \n",
       "5   RT @dyjh: My new book out in print. Listed #Vo...  \n",
       "6   It's interesting how recent studies are suppor...  \n",
       "7   Santé et Big Data : une véritable course d'obs...  \n",
       "8   @landerso30 there is never enough data when th...  \n",
       "9   RT @MegaDataMama: 'Big Data' Questioned in Wak...  \n",
       "10  @IngBeltranC Mira lo que tengo y tú no... Ya s...  \n",
       "11  10 Data Science, Machine Learning and #IoT Pre...  \n",
       "12  RT @radiobiafralive: Much Ado About Operation ...  \n",
       "13  RT @KottiPillar: #Michigan election HACKED\\n#P...  \n",
       "14  RT @radiobiafralive: Much Ado About Operation ...  \n",
       "15  RT @SpaceCharlieUK: Former @NASA chief scienti...  \n",
       "16  RT @5PFC_M1L_Gr4u: esse américa do méxico todo...  \n",
       "17  SE O PRASS FIZER O PALMEIRAS É CAMPEÃO, SE O P...  \n",
       "18  RT @IratusPorcum: Gabriel Jesus sem ser mais a...  "
      ]
     },
     "execution_count": 32,
     "metadata": {},
     "output_type": "execute_result"
    }
   ],
   "source": [
    "df"
   ]
  },
  {
   "cell_type": "code",
   "execution_count": 33,
   "metadata": {
    "collapsed": false
   },
   "outputs": [],
   "source": [
    "# Importando o Scikit Learn \n",
    "from sklearn.feature_extraction.text import CountVectorizer"
   ]
  },
  {
   "cell_type": "code",
   "execution_count": 34,
   "metadata": {
    "collapsed": false
   },
   "outputs": [],
   "source": [
    "# Usando o método CountVectorizer para criar uma matriz de documentos\n",
    "cv = CountVectorizer()\n",
    "count_matrix = cv.fit_transform(df.text)"
   ]
  },
  {
   "cell_type": "code",
   "execution_count": 36,
   "metadata": {
    "collapsed": false
   },
   "outputs": [
    {
     "data": {
      "text/html": [
       "<div>\n",
       "<table border=\"1\" class=\"dataframe\">\n",
       "  <thead>\n",
       "    <tr style=\"text-align: right;\">\n",
       "      <th></th>\n",
       "      <th>word</th>\n",
       "      <th>count</th>\n",
       "    </tr>\n",
       "  </thead>\n",
       "  <tbody>\n",
       "    <tr>\n",
       "      <th>0</th>\n",
       "      <td>co</td>\n",
       "      <td>16</td>\n",
       "    </tr>\n",
       "    <tr>\n",
       "      <th>1</th>\n",
       "      <td>https</td>\n",
       "      <td>16</td>\n",
       "    </tr>\n",
       "    <tr>\n",
       "      <th>2</th>\n",
       "      <td>rt</td>\n",
       "      <td>11</td>\n",
       "    </tr>\n",
       "    <tr>\n",
       "      <th>3</th>\n",
       "      <td>python</td>\n",
       "      <td>10</td>\n",
       "    </tr>\n",
       "    <tr>\n",
       "      <th>4</th>\n",
       "      <td>data</td>\n",
       "      <td>7</td>\n",
       "    </tr>\n",
       "    <tr>\n",
       "      <th>5</th>\n",
       "      <td>palmeiras</td>\n",
       "      <td>5</td>\n",
       "    </tr>\n",
       "    <tr>\n",
       "      <th>6</th>\n",
       "      <td>of</td>\n",
       "      <td>4</td>\n",
       "    </tr>\n",
       "    <tr>\n",
       "      <th>7</th>\n",
       "      <td>and</td>\n",
       "      <td>4</td>\n",
       "    </tr>\n",
       "    <tr>\n",
       "      <th>8</th>\n",
       "      <td>no</td>\n",
       "      <td>3</td>\n",
       "    </tr>\n",
       "    <tr>\n",
       "      <th>9</th>\n",
       "      <td>in</td>\n",
       "      <td>3</td>\n",
       "    </tr>\n",
       "    <tr>\n",
       "      <th>10</th>\n",
       "      <td>tem</td>\n",
       "      <td>3</td>\n",
       "    </tr>\n",
       "    <tr>\n",
       "      <th>11</th>\n",
       "      <td>trump</td>\n",
       "      <td>3</td>\n",
       "    </tr>\n",
       "    <tr>\n",
       "      <th>12</th>\n",
       "      <td>exception</td>\n",
       "      <td>3</td>\n",
       "    </tr>\n",
       "    <tr>\n",
       "      <th>13</th>\n",
       "      <td>about</td>\n",
       "      <td>3</td>\n",
       "    </tr>\n",
       "    <tr>\n",
       "      <th>14</th>\n",
       "      <td>se</td>\n",
       "      <td>3</td>\n",
       "    </tr>\n",
       "    <tr>\n",
       "      <th>15</th>\n",
       "      <td>science</td>\n",
       "      <td>3</td>\n",
       "    </tr>\n",
       "    <tr>\n",
       "      <th>16</th>\n",
       "      <td>do</td>\n",
       "      <td>3</td>\n",
       "    </tr>\n",
       "    <tr>\n",
       "      <th>17</th>\n",
       "      <td>radiobiafralive</td>\n",
       "      <td>2</td>\n",
       "    </tr>\n",
       "    <tr>\n",
       "      <th>18</th>\n",
       "      <td>fizer</td>\n",
       "      <td>2</td>\n",
       "    </tr>\n",
       "    <tr>\n",
       "      <th>19</th>\n",
       "      <td>targeted</td>\n",
       "      <td>2</td>\n",
       "    </tr>\n",
       "    <tr>\n",
       "      <th>20</th>\n",
       "      <td>priority</td>\n",
       "      <td>2</td>\n",
       "    </tr>\n",
       "    <tr>\n",
       "      <th>21</th>\n",
       "      <td>much</td>\n",
       "      <td>2</td>\n",
       "    </tr>\n",
       "    <tr>\n",
       "      <th>22</th>\n",
       "      <td>more</td>\n",
       "      <td>2</td>\n",
       "    </tr>\n",
       "    <tr>\n",
       "      <th>23</th>\n",
       "      <td>new</td>\n",
       "      <td>2</td>\n",
       "    </tr>\n",
       "    <tr>\n",
       "      <th>24</th>\n",
       "      <td>dance</td>\n",
       "      <td>2</td>\n",
       "    </tr>\n",
       "    <tr>\n",
       "      <th>25</th>\n",
       "      <td>is</td>\n",
       "      <td>2</td>\n",
       "    </tr>\n",
       "    <tr>\n",
       "      <th>26</th>\n",
       "      <td>the</td>\n",
       "      <td>2</td>\n",
       "    </tr>\n",
       "    <tr>\n",
       "      <th>27</th>\n",
       "      <td>it</td>\n",
       "      <td>2</td>\n",
       "    </tr>\n",
       "    <tr>\n",
       "      <th>28</th>\n",
       "      <td>prass</td>\n",
       "      <td>2</td>\n",
       "    </tr>\n",
       "    <tr>\n",
       "      <th>29</th>\n",
       "      <td>misplaced</td>\n",
       "      <td>2</td>\n",
       "    </tr>\n",
       "    <tr>\n",
       "      <th>30</th>\n",
       "      <td>to</td>\n",
       "      <td>2</td>\n",
       "    </tr>\n",
       "    <tr>\n",
       "      <th>31</th>\n",
       "      <td>hypothesis</td>\n",
       "      <td>2</td>\n",
       "    </tr>\n",
       "    <tr>\n",
       "      <th>32</th>\n",
       "      <td>killing</td>\n",
       "      <td>2</td>\n",
       "    </tr>\n",
       "    <tr>\n",
       "      <th>33</th>\n",
       "      <td>with</td>\n",
       "      <td>2</td>\n",
       "    </tr>\n",
       "    <tr>\n",
       "      <th>34</th>\n",
       "      <td>campeão</td>\n",
       "      <td>2</td>\n",
       "    </tr>\n",
       "    <tr>\n",
       "      <th>35</th>\n",
       "      <td>sqlserver</td>\n",
       "      <td>2</td>\n",
       "    </tr>\n",
       "    <tr>\n",
       "      <th>36</th>\n",
       "      <td>que</td>\n",
       "      <td>2</td>\n",
       "    </tr>\n",
       "    <tr>\n",
       "      <th>37</th>\n",
       "      <td>bigdata</td>\n",
       "      <td>2</td>\n",
       "    </tr>\n",
       "    <tr>\n",
       "      <th>38</th>\n",
       "      <td>big</td>\n",
       "      <td>2</td>\n",
       "    </tr>\n",
       "    <tr>\n",
       "      <th>39</th>\n",
       "      <td>ado</td>\n",
       "      <td>2</td>\n",
       "    </tr>\n",
       "    <tr>\n",
       "      <th>40</th>\n",
       "      <td>operation</td>\n",
       "      <td>2</td>\n",
       "    </tr>\n",
       "    <tr>\n",
       "      <th>41</th>\n",
       "      <td>at</td>\n",
       "      <td>2</td>\n",
       "    </tr>\n",
       "    <tr>\n",
       "      <th>42</th>\n",
       "      <td>raising</td>\n",
       "      <td>1</td>\n",
       "    </tr>\n",
       "    <tr>\n",
       "      <th>43</th>\n",
       "      <td>respeit</td>\n",
       "      <td>1</td>\n",
       "    </tr>\n",
       "    <tr>\n",
       "      <th>44</th>\n",
       "      <td>quem</td>\n",
       "      <td>1</td>\n",
       "    </tr>\n",
       "    <tr>\n",
       "      <th>45</th>\n",
       "      <td>questioned</td>\n",
       "      <td>1</td>\n",
       "    </tr>\n",
       "    <tr>\n",
       "      <th>46</th>\n",
       "      <td>pythontrending</td>\n",
       "      <td>1</td>\n",
       "    </tr>\n",
       "    <tr>\n",
       "      <th>47</th>\n",
       "      <td>qyz5msk8hs</td>\n",
       "      <td>1</td>\n",
       "    </tr>\n",
       "    <tr>\n",
       "      <th>48</th>\n",
       "      <td>recent</td>\n",
       "      <td>1</td>\n",
       "    </tr>\n",
       "    <tr>\n",
       "      <th>49</th>\n",
       "      <td>10</td>\n",
       "      <td>1</td>\n",
       "    </tr>\n",
       "  </tbody>\n",
       "</table>\n",
       "</div>"
      ],
      "text/plain": [
       "               word  count\n",
       "0                co     16\n",
       "1             https     16\n",
       "2                rt     11\n",
       "3            python     10\n",
       "4              data      7\n",
       "5         palmeiras      5\n",
       "6                of      4\n",
       "7               and      4\n",
       "8                no      3\n",
       "9                in      3\n",
       "10              tem      3\n",
       "11            trump      3\n",
       "12        exception      3\n",
       "13            about      3\n",
       "14               se      3\n",
       "15          science      3\n",
       "16               do      3\n",
       "17  radiobiafralive      2\n",
       "18            fizer      2\n",
       "19         targeted      2\n",
       "20         priority      2\n",
       "21             much      2\n",
       "22             more      2\n",
       "23              new      2\n",
       "24            dance      2\n",
       "25               is      2\n",
       "26              the      2\n",
       "27               it      2\n",
       "28            prass      2\n",
       "29        misplaced      2\n",
       "30               to      2\n",
       "31       hypothesis      2\n",
       "32          killing      2\n",
       "33             with      2\n",
       "34          campeão      2\n",
       "35        sqlserver      2\n",
       "36              que      2\n",
       "37          bigdata      2\n",
       "38              big      2\n",
       "39              ado      2\n",
       "40        operation      2\n",
       "41               at      2\n",
       "42          raising      1\n",
       "43          respeit      1\n",
       "44             quem      1\n",
       "45       questioned      1\n",
       "46   pythontrending      1\n",
       "47       qyz5msk8hs      1\n",
       "48           recent      1\n",
       "49               10      1"
      ]
     },
     "execution_count": 36,
     "metadata": {},
     "output_type": "execute_result"
    }
   ],
   "source": [
    "# Contando o número de ocorrências das principais palavras em nosso dataset\n",
    "word_count = pd.DataFrame(cv.get_feature_names(), columns=['word'])\n",
    "word_count['count'] = count_matrix.sum(axis=0).tolist()[0]\n",
    "word_count = word_count.sort_values(\"count\", ascending=False).reset_index(drop=True)\n",
    "word_count[:50]"
   ]
  },
  {
   "cell_type": "markdown",
   "metadata": {},
   "source": [
    "# Fim"
   ]
  }
 ],
 "metadata": {
  "anaconda-cloud": {},
  "kernelspec": {
   "display_name": "Python [default]",
   "language": "python",
   "name": "python3"
  },
  "language_info": {
   "codemirror_mode": {
    "name": "ipython",
    "version": 3
   },
   "file_extension": ".py",
   "mimetype": "text/x-python",
   "name": "python",
   "nbconvert_exporter": "python",
   "pygments_lexer": "ipython3",
   "version": "3.5.2"
  }
 },
 "nbformat": 4,
 "nbformat_minor": 1
}
